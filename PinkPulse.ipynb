{
 "cells": [
  {
   "cell_type": "markdown",
   "metadata": {},
   "source": [
    "## Product - PinkPulse Online Appointment for Healthcare"
   ]
  },
  {
   "cell_type": "markdown",
   "metadata": {},
   "source": [
    "### Overview\n",
    "\n",
    "PinkPulse is an innovative women’s healthcare platform that provides online consultation and networking services across Asia. Our vision is to create an optimized two-sided marketplace where health professionals and female patients can seamlessly connect. By turning data into proactive healthcare, PinkPulse aims to address several critical issues: raising public awareness about women’s health, empowering and educating the women’s community, and strengthening the healthcare network. We tackle problems like low awareness and cognition in women’s health, lack of early disease detection and prevention, user disempowerment over healthcare, and the presence of healthcare upcoding. With features like upcoding detection, AI-powered disease recognition, and a robust healthcare algorithm, PinkPulse is dedicated to transforming how women manage their health."
   ]
  },
  {
   "cell_type": "markdown",
   "metadata": {},
   "source": [
    "### My Role and Contributions\n",
    "\n",
    "As a co-founder of PinkPulse, I teamed up with partners who have strong engineering backgrounds to shape our product. We used Jira to keep the product lifecycle on track. My role involved spotting pain points and market needs from our target users. To do this, I carried out market research and interviewed 100 users using Google Forms and in-person workshops. I crafted roadmaps to stay true to our product vision and put together business proposals and pitch decks to draw in early adopters and investors. I also worked closely with an offshore development team on the design and iterations of our product. Our biweekly meetings were key in getting our Minimum Viable Product (MVP) ready in just 3 months."
   ]
  },
  {
   "cell_type": "markdown",
   "metadata": {},
   "source": [
    "### Outcomes and Impact\n",
    "\n",
    "Managing our digital content and social media presence helped us build traction, leading to over **1,000** followers who actively engaged with our content. Using tools like Google Analytics and Cloudflare, we honed our product-market fit, which boosted our website traffic by **120%**. After launching our MVP and running a pilot program, we saw an **80%** user satisfaction rate. We took user feedback seriously, so that we can continuously adjust our features with the development team to better meet our users' needs."
   ]
  },
  {
   "cell_type": "markdown",
   "metadata": {},
   "source": [
    "### Pitch Deck"
   ]
  },
  {
   "cell_type": "markdown",
   "metadata": {},
   "source": [
    "<img src=\"PinkPulse_Pitch_01.png\" width=\"1000\" height=\"506\">\n",
    "<img src=\"PinkPulse_Pitch_02.png\" width=\"1000\" height=\"506\">\n",
    "<img src=\"PinkPulse_Pitch_03.png\" width=\"1000\" height=\"506\">\n",
    "<img src=\"PinkPulse_Pitch_04.png\" width=\"1000\" height=\"506\">\n",
    "<img src=\"PinkPulse_Pitch_05.png\" width=\"1000\" height=\"506\">\n",
    "<img src=\"PinkPulse_Pitch_06.png\" width=\"1000\" height=\"506\">\n",
    "<img src=\"PinkPulse_Pitch_07.png\" width=\"1000\" height=\"506\">\n",
    "<img src=\"PinkPulse_Pitch_08.png\" width=\"1000\" height=\"506\">\n",
    "<img src=\"PinkPulse_Pitch_09.png\" width=\"1000\" height=\"506\">\n",
    "<img src=\"PinkPulse_Pitch_10.png\" width=\"1000\" height=\"506\">\n",
    "<img src=\"PinkPulse_Pitch_11.png\" width=\"1000\" height=\"506\">\n",
    "<img src=\"PinkPulse_Pitch_12.png\" width=\"1000\" height=\"506\">\n",
    "<img src=\"PinkPulse_Pitch_13.png\" width=\"1000\" height=\"506\">"
   ]
  }
 ],
 "metadata": {
  "kernelspec": {
   "display_name": "Python 3",
   "language": "python",
   "name": "python3"
  },
  "language_info": {
   "codemirror_mode": {
    "name": "ipython",
    "version": 3
   },
   "file_extension": ".py",
   "mimetype": "text/x-python",
   "name": "python",
   "nbconvert_exporter": "python",
   "pygments_lexer": "ipython3",
   "version": "3.7.3"
  }
 },
 "nbformat": 4,
 "nbformat_minor": 2
}
